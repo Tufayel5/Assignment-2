{
  "nbformat": 4,
  "nbformat_minor": 0,
  "metadata": {
    "colab": {
      "name": "Assignment2.ipynb",
      "provenance": []
    },
    "kernelspec": {
      "name": "python3",
      "display_name": "Python 3"
    },
    "language_info": {
      "name": "python"
    }
  },
  "cells": [
    {
      "cell_type": "code",
      "execution_count": 1,
      "metadata": {
        "colab": {
          "base_uri": "https://localhost:8080/"
        },
        "id": "jv-YYrTjjTCG",
        "outputId": "64ac348f-63c7-4e29-99bf-c6f29082e581"
      },
      "outputs": [
        {
          "output_type": "stream",
          "name": "stdout",
          "text": [
            "Enter password length: 5\n",
            "!eUXU\n"
          ]
        }
      ],
      "source": [
        "## A program to generate a random password based on password length\n",
        "import string\n",
        "import random\n",
        "\n",
        "## Characters to generate password from\n",
        "characters = list(string.ascii_letters + string.digits + \"!@#$%^&*()\")\n",
        "\n",
        "## Defining a function\n",
        "def generate_password():\n",
        "\t## Asking user to input the length of their password\n",
        "\tlength = int(input(\"Enter password length: \"))\n",
        "\n",
        "\t## Randomizing the characters\n",
        "\trandom.shuffle(characters)\n",
        "\t\n",
        "\t## Choosing random characters from the list\n",
        "\tpassword = []\n",
        "\tfor i in range(length):\n",
        "\t\tpassword.append(random.choice(characters))\n",
        "\n",
        "\t## Shuffling the new password\n",
        "\trandom.shuffle(password)\n",
        "\n",
        "\t## Converting the list to string and then printing the string\n",
        "\tprint(\"\".join(password))\n",
        "\n",
        "## Calling out the function\n",
        "generate_password()"
      ]
    }
  ]
}
